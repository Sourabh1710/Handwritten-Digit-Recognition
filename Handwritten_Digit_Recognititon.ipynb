{
 "cells": [
  {
   "cell_type": "code",
   "execution_count": 1,
   "id": "2a8f57ed-8713-4046-bc70-ec8755b38856",
   "metadata": {},
   "outputs": [],
   "source": [
    "from torchvision import datasets\n",
    "from torchvision.transforms import ToTensor"
   ]
  },
  {
   "cell_type": "code",
   "execution_count": 2,
   "id": "34f5b603-78e9-46b4-af0d-dd0d821ad756",
   "metadata": {},
   "outputs": [
    {
     "name": "stdout",
     "output_type": "stream",
     "text": [
      "Downloading http://yann.lecun.com/exdb/mnist/train-images-idx3-ubyte.gz\n",
      "Downloading http://yann.lecun.com/exdb/mnist/train-images-idx3-ubyte.gz to data\\MNIST\\raw\\train-images-idx3-ubyte.gz\n"
     ]
    },
    {
     "name": "stderr",
     "output_type": "stream",
     "text": [
      "100.0%\n"
     ]
    },
    {
     "name": "stdout",
     "output_type": "stream",
     "text": [
      "Extracting data\\MNIST\\raw\\train-images-idx3-ubyte.gz to data\\MNIST\\raw\n",
      "\n",
      "Downloading http://yann.lecun.com/exdb/mnist/train-labels-idx1-ubyte.gz\n",
      "Downloading http://yann.lecun.com/exdb/mnist/train-labels-idx1-ubyte.gz to data\\MNIST\\raw\\train-labels-idx1-ubyte.gz\n"
     ]
    },
    {
     "name": "stderr",
     "output_type": "stream",
     "text": [
      "100.0%\n"
     ]
    },
    {
     "name": "stdout",
     "output_type": "stream",
     "text": [
      "Extracting data\\MNIST\\raw\\train-labels-idx1-ubyte.gz to data\\MNIST\\raw\n",
      "\n",
      "Downloading http://yann.lecun.com/exdb/mnist/t10k-images-idx3-ubyte.gz\n",
      "Downloading http://yann.lecun.com/exdb/mnist/t10k-images-idx3-ubyte.gz to data\\MNIST\\raw\\t10k-images-idx3-ubyte.gz\n"
     ]
    },
    {
     "name": "stderr",
     "output_type": "stream",
     "text": [
      "100.0%\n"
     ]
    },
    {
     "name": "stdout",
     "output_type": "stream",
     "text": [
      "Extracting data\\MNIST\\raw\\t10k-images-idx3-ubyte.gz to data\\MNIST\\raw\n",
      "\n",
      "Downloading http://yann.lecun.com/exdb/mnist/t10k-labels-idx1-ubyte.gz\n",
      "Downloading http://yann.lecun.com/exdb/mnist/t10k-labels-idx1-ubyte.gz to data\\MNIST\\raw\\t10k-labels-idx1-ubyte.gz\n"
     ]
    },
    {
     "name": "stderr",
     "output_type": "stream",
     "text": [
      "100.0%\n"
     ]
    },
    {
     "name": "stdout",
     "output_type": "stream",
     "text": [
      "Extracting data\\MNIST\\raw\\t10k-labels-idx1-ubyte.gz to data\\MNIST\\raw\n",
      "\n"
     ]
    }
   ],
   "source": [
    "train_data=datasets.MNIST(\n",
    "    root='data',\n",
    "    train=True,\n",
    "    transform=ToTensor(),\n",
    "    download=True\n",
    ")\n",
    "test_data=datasets.MNIST(\n",
    "    root='data',\n",
    "    train=False,\n",
    "    transform=ToTensor(),\n",
    "    download=True\n",
    ")"
   ]
  },
  {
   "cell_type": "code",
   "execution_count": 3,
   "id": "4e4e5310-0814-4052-8a02-076cd4cb26f7",
   "metadata": {},
   "outputs": [
    {
     "data": {
      "text/plain": [
       "Dataset MNIST\n",
       "    Number of datapoints: 60000\n",
       "    Root location: data\n",
       "    Split: Train\n",
       "    StandardTransform\n",
       "Transform: ToTensor()"
      ]
     },
     "execution_count": 3,
     "metadata": {},
     "output_type": "execute_result"
    }
   ],
   "source": [
    "train_data"
   ]
  },
  {
   "cell_type": "code",
   "execution_count": 4,
   "id": "de015e63-ee1b-4f63-b979-7c88635012fe",
   "metadata": {},
   "outputs": [
    {
     "data": {
      "text/plain": [
       "Dataset MNIST\n",
       "    Number of datapoints: 10000\n",
       "    Root location: data\n",
       "    Split: Test\n",
       "    StandardTransform\n",
       "Transform: ToTensor()"
      ]
     },
     "execution_count": 4,
     "metadata": {},
     "output_type": "execute_result"
    }
   ],
   "source": [
    "test_data"
   ]
  },
  {
   "cell_type": "code",
   "execution_count": 6,
   "id": "f95edde6-2590-4ad2-b52e-c474ac07e832",
   "metadata": {},
   "outputs": [
    {
     "data": {
      "text/plain": [
       "torch.Size([60000, 28, 28])"
      ]
     },
     "execution_count": 6,
     "metadata": {},
     "output_type": "execute_result"
    }
   ],
   "source": [
    "train_data.data.shape"
   ]
  },
  {
   "cell_type": "code",
   "execution_count": 8,
   "id": "6ef7627e-04be-49e8-bebb-eb5a4b689d3d",
   "metadata": {},
   "outputs": [
    {
     "data": {
      "text/plain": [
       "torch.Size([10000, 28, 28])"
      ]
     },
     "execution_count": 8,
     "metadata": {},
     "output_type": "execute_result"
    }
   ],
   "source": [
    "test_data.data.shape"
   ]
  },
  {
   "cell_type": "code",
   "execution_count": 9,
   "id": "f957510e-96c9-4d22-a3e5-2b25154f8299",
   "metadata": {},
   "outputs": [
    {
     "data": {
      "text/plain": [
       "torch.Size([60000])"
      ]
     },
     "execution_count": 9,
     "metadata": {},
     "output_type": "execute_result"
    }
   ],
   "source": [
    "train_data.targets.size()"
   ]
  },
  {
   "cell_type": "code",
   "execution_count": 11,
   "id": "59429720-afc8-42f1-85bc-a2ec6a8e8d29",
   "metadata": {},
   "outputs": [
    {
     "data": {
      "text/plain": [
       "tensor([5, 0, 4,  ..., 5, 6, 8])"
      ]
     },
     "execution_count": 11,
     "metadata": {},
     "output_type": "execute_result"
    }
   ],
   "source": [
    "train_data.targets"
   ]
  },
  {
   "cell_type": "code",
   "execution_count": 12,
   "id": "b32f7e7e-13af-4dab-8655-94995b08fa33",
   "metadata": {},
   "outputs": [],
   "source": [
    "from torch.utils.data import DataLoader\n",
    "loaders={\n",
    "    'train': DataLoader(train_data,\n",
    "                       batch_size=100,\n",
    "                       shuffle=True,\n",
    "                       num_workers=1),\n",
    "    'test': DataLoader(test_data,\n",
    "                       batch_size=100,\n",
    "                       shuffle=True,\n",
    "                       num_workers=1)\n",
    "}"
   ]
  },
  {
   "cell_type": "code",
   "execution_count": 13,
   "id": "64c3d414-d57b-41dc-a7a0-0a361df2b317",
   "metadata": {},
   "outputs": [
    {
     "data": {
      "text/plain": [
       "{'train': <torch.utils.data.dataloader.DataLoader at 0x278e4f400d0>,\n",
       " 'test': <torch.utils.data.dataloader.DataLoader at 0x278e1842dd0>}"
      ]
     },
     "execution_count": 13,
     "metadata": {},
     "output_type": "execute_result"
    }
   ],
   "source": [
    "loaders\n"
   ]
  },
  {
   "cell_type": "code",
   "execution_count": 21,
   "id": "504d62e5-75b3-4b31-8bd2-e9b07f7e077b",
   "metadata": {},
   "outputs": [],
   "source": [
    "import torch.nn as nn\n",
    "import torch.nn.functional as F\n",
    "import torch.optim as optim\n",
    "\n",
    "class CNN(nn.Module):\n",
    "    def __init__(self):\n",
    "        super(CNN,self).__init__()\n",
    "        self.conv1=nn.Conv2d(1,10,kernel_size=5)\n",
    "        self.conv2=nn.Conv2d(10,20,kernel_size=5)\n",
    "        self.conv2_drop=nn.Dropout2d()\n",
    "        self.fc1=nn.Linear(320,50)\n",
    "        self.fc2=nn.Linear(50,10)\n",
    "\n",
    "    def forward(self, x):\n",
    "        x=F.relu(F.max_pool2d(self.conv1(x),2))\n",
    "        x=F.relu(F.max_pool2d(self.conv2_drop(self.conv2(x)),2))\n",
    "        x=x.view(-1,320)\n",
    "        x=F.relu(self.fc1(x))\n",
    "        x=F.dropout(x,training=self.training)\n",
    "        x=self.fc2(x)\n",
    "        return F.softmax(x)"
   ]
  },
  {
   "cell_type": "code",
   "execution_count": 22,
   "id": "df6993a0-4138-4b95-94ea-8acecc24d46f",
   "metadata": {},
   "outputs": [],
   "source": [
    "import torch\n",
    "\n",
    "device= torch.device('cuda' if torch.cuda.is_available() else 'cpu')\n",
    "\n",
    "model= CNN().to(device)\n",
    "optimizer= optim.Adam(model.parameters(),lr=0.001)\n",
    "\n",
    "loss_fn=nn.CrossEntropyLoss()\n",
    "\n",
    "def train(epoch):\n",
    "    model.train()\n",
    "    for batch_idx, (data,target) in enumerate(loaders['train']):\n",
    "        data,target=data.to(device), target.to(device)\n",
    "        optimizer.zero_grad()\n",
    "        output=model(data)\n",
    "        loss=loss_fn(output,target)\n",
    "        loss.backward()\n",
    "        optimizer.step()\n",
    "        if batch_idx % 20 == 0:\n",
    "            print(f'Train Epoch: {epoch} [{batch_idx* len(data)}/{len(loaders[\"train\"].dataset)}({100.*batch_idx /len(loaders[\"train\"]):.0f}%)]\\t{loss.item():.6f}')\n",
    "\n",
    "def test():\n",
    "    model.eval()\n",
    "\n",
    "    test_loss=0\n",
    "    correct=0\n",
    "\n",
    "    with torch.no_grad():\n",
    "        for data, target in loaders['test']:\n",
    "            data,target=data.to(device), target.to(device)\n",
    "            output=model(data)\n",
    "            test_loss+=loss_fn(output,target).item()\n",
    "            pred=output.argmax(dim=1,keepdim=True)\n",
    "            correct+=pred.eq(target.view_as(pred)).sum().item()\n",
    "\n",
    "    test_loss /= len(loaders['test'].dataset)\n",
    "    print(f'\\nTest set: Average loss: {test_loss:.4f}, Accuracy {correct}/{len(loaders[\"test\"].dataset)} ({100. *correct/ len(loaders[\"test\"].dataset):.0f}%\\n)')"
   ]
  },
  {
   "cell_type": "code",
   "execution_count": 23,
   "id": "c0cb8820-a8fb-4200-b351-ed1605891b73",
   "metadata": {},
   "outputs": [
    {
     "name": "stderr",
     "output_type": "stream",
     "text": [
      "C:\\Users\\soura\\AppData\\Local\\Temp\\ipykernel_10328\\1471491164.py:21: UserWarning: Implicit dimension choice for softmax has been deprecated. Change the call to include dim=X as an argument.\n",
      "  return F.softmax(x)\n"
     ]
    },
    {
     "name": "stdout",
     "output_type": "stream",
     "text": [
      "Train Epoch: 1 [0/60000(0%)]\t2.303988\n",
      "Train Epoch: 1 [2000/60000(3%)]\t2.290745\n",
      "Train Epoch: 1 [4000/60000(7%)]\t2.174491\n",
      "Train Epoch: 1 [6000/60000(10%)]\t2.009599\n",
      "Train Epoch: 1 [8000/60000(13%)]\t1.913986\n",
      "Train Epoch: 1 [10000/60000(17%)]\t1.876918\n",
      "Train Epoch: 1 [12000/60000(20%)]\t1.756577\n",
      "Train Epoch: 1 [14000/60000(23%)]\t1.788247\n",
      "Train Epoch: 1 [16000/60000(27%)]\t1.759102\n",
      "Train Epoch: 1 [18000/60000(30%)]\t1.725359\n",
      "Train Epoch: 1 [20000/60000(33%)]\t1.724659\n",
      "Train Epoch: 1 [22000/60000(37%)]\t1.726973\n",
      "Train Epoch: 1 [24000/60000(40%)]\t1.714582\n",
      "Train Epoch: 1 [26000/60000(43%)]\t1.738117\n",
      "Train Epoch: 1 [28000/60000(47%)]\t1.719381\n",
      "Train Epoch: 1 [30000/60000(50%)]\t1.701275\n",
      "Train Epoch: 1 [32000/60000(53%)]\t1.713320\n",
      "Train Epoch: 1 [34000/60000(57%)]\t1.714604\n",
      "Train Epoch: 1 [36000/60000(60%)]\t1.711885\n",
      "Train Epoch: 1 [38000/60000(63%)]\t1.668187\n",
      "Train Epoch: 1 [40000/60000(67%)]\t1.636171\n",
      "Train Epoch: 1 [42000/60000(70%)]\t1.641178\n",
      "Train Epoch: 1 [44000/60000(73%)]\t1.554176\n",
      "Train Epoch: 1 [46000/60000(77%)]\t1.602420\n",
      "Train Epoch: 1 [48000/60000(80%)]\t1.636657\n",
      "Train Epoch: 1 [50000/60000(83%)]\t1.607719\n",
      "Train Epoch: 1 [52000/60000(87%)]\t1.627029\n",
      "Train Epoch: 1 [54000/60000(90%)]\t1.644489\n",
      "Train Epoch: 1 [56000/60000(93%)]\t1.660223\n",
      "Train Epoch: 1 [58000/60000(97%)]\t1.628306\n",
      "\n",
      "Test set: Average loss: 0.0153, Accuracy 9323/10000 (93%\n",
      ")\n",
      "Train Epoch: 2 [0/60000(0%)]\t1.604708\n",
      "Train Epoch: 2 [2000/60000(3%)]\t1.605585\n",
      "Train Epoch: 2 [4000/60000(7%)]\t1.553949\n",
      "Train Epoch: 2 [6000/60000(10%)]\t1.597153\n",
      "Train Epoch: 2 [8000/60000(13%)]\t1.607641\n",
      "Train Epoch: 2 [10000/60000(17%)]\t1.593467\n",
      "Train Epoch: 2 [12000/60000(20%)]\t1.601668\n",
      "Train Epoch: 2 [14000/60000(23%)]\t1.602620\n",
      "Train Epoch: 2 [16000/60000(27%)]\t1.574523\n",
      "Train Epoch: 2 [18000/60000(30%)]\t1.559742\n",
      "Train Epoch: 2 [20000/60000(33%)]\t1.573861\n",
      "Train Epoch: 2 [22000/60000(37%)]\t1.605855\n",
      "Train Epoch: 2 [24000/60000(40%)]\t1.558802\n",
      "Train Epoch: 2 [26000/60000(43%)]\t1.596812\n",
      "Train Epoch: 2 [28000/60000(47%)]\t1.623722\n",
      "Train Epoch: 2 [30000/60000(50%)]\t1.517079\n",
      "Train Epoch: 2 [32000/60000(53%)]\t1.548000\n",
      "Train Epoch: 2 [34000/60000(57%)]\t1.577191\n",
      "Train Epoch: 2 [36000/60000(60%)]\t1.575595\n",
      "Train Epoch: 2 [38000/60000(63%)]\t1.600728\n",
      "Train Epoch: 2 [40000/60000(67%)]\t1.555505\n",
      "Train Epoch: 2 [42000/60000(70%)]\t1.570517\n",
      "Train Epoch: 2 [44000/60000(73%)]\t1.540621\n",
      "Train Epoch: 2 [46000/60000(77%)]\t1.565810\n",
      "Train Epoch: 2 [48000/60000(80%)]\t1.533750\n",
      "Train Epoch: 2 [50000/60000(83%)]\t1.541445\n",
      "Train Epoch: 2 [52000/60000(87%)]\t1.587455\n",
      "Train Epoch: 2 [54000/60000(90%)]\t1.540442\n",
      "Train Epoch: 2 [56000/60000(93%)]\t1.554115\n",
      "Train Epoch: 2 [58000/60000(97%)]\t1.518493\n",
      "\n",
      "Test set: Average loss: 0.0151, Accuracy 9547/10000 (95%\n",
      ")\n",
      "Train Epoch: 3 [0/60000(0%)]\t1.608761\n",
      "Train Epoch: 3 [2000/60000(3%)]\t1.507086\n",
      "Train Epoch: 3 [4000/60000(7%)]\t1.571187\n",
      "Train Epoch: 3 [6000/60000(10%)]\t1.555187\n",
      "Train Epoch: 3 [8000/60000(13%)]\t1.543925\n",
      "Train Epoch: 3 [10000/60000(17%)]\t1.523018\n",
      "Train Epoch: 3 [12000/60000(20%)]\t1.534405\n",
      "Train Epoch: 3 [14000/60000(23%)]\t1.607959\n",
      "Train Epoch: 3 [16000/60000(27%)]\t1.577266\n",
      "Train Epoch: 3 [18000/60000(30%)]\t1.566726\n",
      "Train Epoch: 3 [20000/60000(33%)]\t1.543956\n",
      "Train Epoch: 3 [22000/60000(37%)]\t1.580022\n",
      "Train Epoch: 3 [24000/60000(40%)]\t1.556410\n",
      "Train Epoch: 3 [26000/60000(43%)]\t1.537849\n",
      "Train Epoch: 3 [28000/60000(47%)]\t1.526960\n",
      "Train Epoch: 3 [30000/60000(50%)]\t1.519395\n",
      "Train Epoch: 3 [32000/60000(53%)]\t1.513227\n",
      "Train Epoch: 3 [34000/60000(57%)]\t1.590551\n",
      "Train Epoch: 3 [36000/60000(60%)]\t1.536022\n",
      "Train Epoch: 3 [38000/60000(63%)]\t1.508615\n",
      "Train Epoch: 3 [40000/60000(67%)]\t1.567477\n",
      "Train Epoch: 3 [42000/60000(70%)]\t1.522567\n",
      "Train Epoch: 3 [44000/60000(73%)]\t1.524595\n",
      "Train Epoch: 3 [46000/60000(77%)]\t1.572643\n",
      "Train Epoch: 3 [48000/60000(80%)]\t1.556666\n",
      "Train Epoch: 3 [50000/60000(83%)]\t1.541111\n",
      "Train Epoch: 3 [52000/60000(87%)]\t1.546223\n",
      "Train Epoch: 3 [54000/60000(90%)]\t1.582591\n",
      "Train Epoch: 3 [56000/60000(93%)]\t1.564588\n",
      "Train Epoch: 3 [58000/60000(97%)]\t1.520600\n",
      "\n",
      "Test set: Average loss: 0.0150, Accuracy 9627/10000 (96%\n",
      ")\n",
      "Train Epoch: 4 [0/60000(0%)]\t1.567690\n",
      "Train Epoch: 4 [2000/60000(3%)]\t1.536855\n",
      "Train Epoch: 4 [4000/60000(7%)]\t1.540601\n",
      "Train Epoch: 4 [6000/60000(10%)]\t1.546203\n",
      "Train Epoch: 4 [8000/60000(13%)]\t1.544838\n",
      "Train Epoch: 4 [10000/60000(17%)]\t1.548908\n",
      "Train Epoch: 4 [12000/60000(20%)]\t1.601578\n",
      "Train Epoch: 4 [14000/60000(23%)]\t1.545701\n",
      "Train Epoch: 4 [16000/60000(27%)]\t1.536497\n",
      "Train Epoch: 4 [18000/60000(30%)]\t1.574390\n",
      "Train Epoch: 4 [20000/60000(33%)]\t1.553792\n",
      "Train Epoch: 4 [22000/60000(37%)]\t1.555864\n",
      "Train Epoch: 4 [24000/60000(40%)]\t1.556594\n",
      "Train Epoch: 4 [26000/60000(43%)]\t1.513650\n",
      "Train Epoch: 4 [28000/60000(47%)]\t1.551461\n",
      "Train Epoch: 4 [30000/60000(50%)]\t1.535759\n",
      "Train Epoch: 4 [32000/60000(53%)]\t1.526204\n",
      "Train Epoch: 4 [34000/60000(57%)]\t1.569503\n",
      "Train Epoch: 4 [36000/60000(60%)]\t1.543617\n",
      "Train Epoch: 4 [38000/60000(63%)]\t1.516533\n",
      "Train Epoch: 4 [40000/60000(67%)]\t1.537863\n",
      "Train Epoch: 4 [42000/60000(70%)]\t1.557710\n",
      "Train Epoch: 4 [44000/60000(73%)]\t1.562525\n",
      "Train Epoch: 4 [46000/60000(77%)]\t1.595500\n",
      "Train Epoch: 4 [48000/60000(80%)]\t1.518322\n",
      "Train Epoch: 4 [50000/60000(83%)]\t1.552497\n",
      "Train Epoch: 4 [52000/60000(87%)]\t1.555521\n",
      "Train Epoch: 4 [54000/60000(90%)]\t1.571222\n",
      "Train Epoch: 4 [56000/60000(93%)]\t1.558434\n",
      "Train Epoch: 4 [58000/60000(97%)]\t1.513004\n",
      "\n",
      "Test set: Average loss: 0.0150, Accuracy 9656/10000 (97%\n",
      ")\n",
      "Train Epoch: 5 [0/60000(0%)]\t1.528137\n",
      "Train Epoch: 5 [2000/60000(3%)]\t1.543143\n",
      "Train Epoch: 5 [4000/60000(7%)]\t1.540182\n",
      "Train Epoch: 5 [6000/60000(10%)]\t1.519758\n",
      "Train Epoch: 5 [8000/60000(13%)]\t1.548057\n",
      "Train Epoch: 5 [10000/60000(17%)]\t1.598519\n",
      "Train Epoch: 5 [12000/60000(20%)]\t1.518526\n",
      "Train Epoch: 5 [14000/60000(23%)]\t1.532423\n",
      "Train Epoch: 5 [16000/60000(27%)]\t1.562646\n",
      "Train Epoch: 5 [18000/60000(30%)]\t1.514872\n",
      "Train Epoch: 5 [20000/60000(33%)]\t1.554739\n",
      "Train Epoch: 5 [22000/60000(37%)]\t1.492780\n",
      "Train Epoch: 5 [24000/60000(40%)]\t1.545282\n",
      "Train Epoch: 5 [26000/60000(43%)]\t1.532004\n",
      "Train Epoch: 5 [28000/60000(47%)]\t1.521664\n",
      "Train Epoch: 5 [30000/60000(50%)]\t1.516713\n",
      "Train Epoch: 5 [32000/60000(53%)]\t1.526628\n",
      "Train Epoch: 5 [34000/60000(57%)]\t1.608119\n",
      "Train Epoch: 5 [36000/60000(60%)]\t1.566196\n",
      "Train Epoch: 5 [38000/60000(63%)]\t1.507587\n",
      "Train Epoch: 5 [40000/60000(67%)]\t1.565962\n",
      "Train Epoch: 5 [42000/60000(70%)]\t1.498915\n",
      "Train Epoch: 5 [44000/60000(73%)]\t1.584398\n",
      "Train Epoch: 5 [46000/60000(77%)]\t1.536324\n",
      "Train Epoch: 5 [48000/60000(80%)]\t1.543347\n",
      "Train Epoch: 5 [50000/60000(83%)]\t1.543988\n",
      "Train Epoch: 5 [52000/60000(87%)]\t1.521120\n",
      "Train Epoch: 5 [54000/60000(90%)]\t1.510466\n",
      "Train Epoch: 5 [56000/60000(93%)]\t1.560403\n",
      "Train Epoch: 5 [58000/60000(97%)]\t1.556118\n",
      "\n",
      "Test set: Average loss: 0.0149, Accuracy 9702/10000 (97%\n",
      ")\n",
      "Train Epoch: 6 [0/60000(0%)]\t1.501096\n",
      "Train Epoch: 6 [2000/60000(3%)]\t1.535132\n",
      "Train Epoch: 6 [4000/60000(7%)]\t1.522786\n",
      "Train Epoch: 6 [6000/60000(10%)]\t1.508143\n",
      "Train Epoch: 6 [8000/60000(13%)]\t1.535293\n",
      "Train Epoch: 6 [10000/60000(17%)]\t1.520659\n",
      "Train Epoch: 6 [12000/60000(20%)]\t1.562560\n",
      "Train Epoch: 6 [14000/60000(23%)]\t1.538848\n",
      "Train Epoch: 6 [16000/60000(27%)]\t1.524271\n",
      "Train Epoch: 6 [18000/60000(30%)]\t1.541169\n",
      "Train Epoch: 6 [20000/60000(33%)]\t1.546686\n",
      "Train Epoch: 6 [22000/60000(37%)]\t1.566439\n",
      "Train Epoch: 6 [24000/60000(40%)]\t1.532645\n",
      "Train Epoch: 6 [26000/60000(43%)]\t1.497430\n",
      "Train Epoch: 6 [28000/60000(47%)]\t1.566697\n",
      "Train Epoch: 6 [30000/60000(50%)]\t1.519144\n",
      "Train Epoch: 6 [32000/60000(53%)]\t1.567370\n",
      "Train Epoch: 6 [34000/60000(57%)]\t1.520047\n",
      "Train Epoch: 6 [36000/60000(60%)]\t1.537124\n",
      "Train Epoch: 6 [38000/60000(63%)]\t1.543159\n",
      "Train Epoch: 6 [40000/60000(67%)]\t1.491827\n",
      "Train Epoch: 6 [42000/60000(70%)]\t1.530141\n",
      "Train Epoch: 6 [44000/60000(73%)]\t1.520542\n",
      "Train Epoch: 6 [46000/60000(77%)]\t1.561633\n",
      "Train Epoch: 6 [48000/60000(80%)]\t1.596807\n",
      "Train Epoch: 6 [50000/60000(83%)]\t1.528399\n",
      "Train Epoch: 6 [52000/60000(87%)]\t1.489257\n",
      "Train Epoch: 6 [54000/60000(90%)]\t1.509892\n",
      "Train Epoch: 6 [56000/60000(93%)]\t1.529681\n",
      "Train Epoch: 6 [58000/60000(97%)]\t1.540993\n",
      "\n",
      "Test set: Average loss: 0.0149, Accuracy 9714/10000 (97%\n",
      ")\n",
      "Train Epoch: 7 [0/60000(0%)]\t1.485174\n",
      "Train Epoch: 7 [2000/60000(3%)]\t1.531284\n",
      "Train Epoch: 7 [4000/60000(7%)]\t1.485564\n",
      "Train Epoch: 7 [6000/60000(10%)]\t1.576992\n",
      "Train Epoch: 7 [8000/60000(13%)]\t1.568730\n",
      "Train Epoch: 7 [10000/60000(17%)]\t1.591402\n",
      "Train Epoch: 7 [12000/60000(20%)]\t1.522464\n",
      "Train Epoch: 7 [14000/60000(23%)]\t1.547172\n",
      "Train Epoch: 7 [16000/60000(27%)]\t1.560881\n",
      "Train Epoch: 7 [18000/60000(30%)]\t1.507083\n",
      "Train Epoch: 7 [20000/60000(33%)]\t1.520584\n",
      "Train Epoch: 7 [22000/60000(37%)]\t1.530410\n",
      "Train Epoch: 7 [24000/60000(40%)]\t1.525049\n",
      "Train Epoch: 7 [26000/60000(43%)]\t1.527718\n",
      "Train Epoch: 7 [28000/60000(47%)]\t1.540918\n",
      "Train Epoch: 7 [30000/60000(50%)]\t1.542096\n",
      "Train Epoch: 7 [32000/60000(53%)]\t1.565546\n",
      "Train Epoch: 7 [34000/60000(57%)]\t1.500818\n",
      "Train Epoch: 7 [36000/60000(60%)]\t1.499104\n",
      "Train Epoch: 7 [38000/60000(63%)]\t1.537431\n",
      "Train Epoch: 7 [40000/60000(67%)]\t1.546414\n",
      "Train Epoch: 7 [42000/60000(70%)]\t1.537215\n",
      "Train Epoch: 7 [44000/60000(73%)]\t1.506356\n",
      "Train Epoch: 7 [46000/60000(77%)]\t1.542960\n",
      "Train Epoch: 7 [48000/60000(80%)]\t1.507392\n",
      "Train Epoch: 7 [50000/60000(83%)]\t1.562382\n",
      "Train Epoch: 7 [52000/60000(87%)]\t1.501098\n",
      "Train Epoch: 7 [54000/60000(90%)]\t1.508342\n",
      "Train Epoch: 7 [56000/60000(93%)]\t1.547595\n",
      "Train Epoch: 7 [58000/60000(97%)]\t1.539491\n",
      "\n",
      "Test set: Average loss: 0.0149, Accuracy 9730/10000 (97%\n",
      ")\n",
      "Train Epoch: 8 [0/60000(0%)]\t1.556910\n",
      "Train Epoch: 8 [2000/60000(3%)]\t1.538887\n",
      "Train Epoch: 8 [4000/60000(7%)]\t1.501445\n",
      "Train Epoch: 8 [6000/60000(10%)]\t1.535816\n",
      "Train Epoch: 8 [8000/60000(13%)]\t1.526549\n",
      "Train Epoch: 8 [10000/60000(17%)]\t1.570913\n",
      "Train Epoch: 8 [12000/60000(20%)]\t1.505029\n",
      "Train Epoch: 8 [14000/60000(23%)]\t1.516468\n",
      "Train Epoch: 8 [16000/60000(27%)]\t1.530791\n",
      "Train Epoch: 8 [18000/60000(30%)]\t1.509664\n",
      "Train Epoch: 8 [20000/60000(33%)]\t1.517289\n",
      "Train Epoch: 8 [22000/60000(37%)]\t1.500894\n",
      "Train Epoch: 8 [24000/60000(40%)]\t1.485932\n",
      "Train Epoch: 8 [26000/60000(43%)]\t1.526984\n",
      "Train Epoch: 8 [28000/60000(47%)]\t1.520535\n",
      "Train Epoch: 8 [30000/60000(50%)]\t1.524522\n",
      "Train Epoch: 8 [32000/60000(53%)]\t1.551958\n",
      "Train Epoch: 8 [34000/60000(57%)]\t1.523535\n",
      "Train Epoch: 8 [36000/60000(60%)]\t1.531871\n",
      "Train Epoch: 8 [38000/60000(63%)]\t1.556502\n",
      "Train Epoch: 8 [40000/60000(67%)]\t1.511249\n",
      "Train Epoch: 8 [42000/60000(70%)]\t1.526074\n",
      "Train Epoch: 8 [44000/60000(73%)]\t1.490435\n",
      "Train Epoch: 8 [46000/60000(77%)]\t1.542946\n",
      "Train Epoch: 8 [48000/60000(80%)]\t1.506092\n",
      "Train Epoch: 8 [50000/60000(83%)]\t1.491629\n",
      "Train Epoch: 8 [52000/60000(87%)]\t1.509946\n",
      "Train Epoch: 8 [54000/60000(90%)]\t1.499933\n",
      "Train Epoch: 8 [56000/60000(93%)]\t1.542034\n",
      "Train Epoch: 8 [58000/60000(97%)]\t1.515768\n",
      "\n",
      "Test set: Average loss: 0.0149, Accuracy 9749/10000 (97%\n",
      ")\n",
      "Train Epoch: 9 [0/60000(0%)]\t1.522835\n",
      "Train Epoch: 9 [2000/60000(3%)]\t1.523067\n",
      "Train Epoch: 9 [4000/60000(7%)]\t1.517369\n",
      "Train Epoch: 9 [6000/60000(10%)]\t1.552477\n",
      "Train Epoch: 9 [8000/60000(13%)]\t1.531686\n",
      "Train Epoch: 9 [10000/60000(17%)]\t1.509943\n",
      "Train Epoch: 9 [12000/60000(20%)]\t1.493024\n",
      "Train Epoch: 9 [14000/60000(23%)]\t1.557368\n",
      "Train Epoch: 9 [16000/60000(27%)]\t1.545361\n",
      "Train Epoch: 9 [18000/60000(30%)]\t1.532610\n",
      "Train Epoch: 9 [20000/60000(33%)]\t1.506653\n",
      "Train Epoch: 9 [22000/60000(37%)]\t1.493718\n",
      "Train Epoch: 9 [24000/60000(40%)]\t1.523052\n",
      "Train Epoch: 9 [26000/60000(43%)]\t1.536889\n",
      "Train Epoch: 9 [28000/60000(47%)]\t1.489158\n",
      "Train Epoch: 9 [30000/60000(50%)]\t1.553831\n",
      "Train Epoch: 9 [32000/60000(53%)]\t1.529285\n",
      "Train Epoch: 9 [34000/60000(57%)]\t1.554046\n",
      "Train Epoch: 9 [36000/60000(60%)]\t1.479807\n",
      "Train Epoch: 9 [38000/60000(63%)]\t1.559514\n",
      "Train Epoch: 9 [40000/60000(67%)]\t1.524707\n",
      "Train Epoch: 9 [42000/60000(70%)]\t1.513889\n",
      "Train Epoch: 9 [44000/60000(73%)]\t1.558717\n",
      "Train Epoch: 9 [46000/60000(77%)]\t1.499581\n",
      "Train Epoch: 9 [48000/60000(80%)]\t1.508929\n",
      "Train Epoch: 9 [50000/60000(83%)]\t1.590270\n",
      "Train Epoch: 9 [52000/60000(87%)]\t1.546004\n",
      "Train Epoch: 9 [54000/60000(90%)]\t1.518238\n",
      "Train Epoch: 9 [56000/60000(93%)]\t1.537708\n",
      "Train Epoch: 9 [58000/60000(97%)]\t1.510358\n",
      "\n",
      "Test set: Average loss: 0.0149, Accuracy 9747/10000 (97%\n",
      ")\n",
      "Train Epoch: 10 [0/60000(0%)]\t1.566398\n",
      "Train Epoch: 10 [2000/60000(3%)]\t1.534430\n",
      "Train Epoch: 10 [4000/60000(7%)]\t1.547781\n",
      "Train Epoch: 10 [6000/60000(10%)]\t1.486344\n",
      "Train Epoch: 10 [8000/60000(13%)]\t1.497536\n",
      "Train Epoch: 10 [10000/60000(17%)]\t1.543008\n",
      "Train Epoch: 10 [12000/60000(20%)]\t1.508940\n",
      "Train Epoch: 10 [14000/60000(23%)]\t1.534187\n",
      "Train Epoch: 10 [16000/60000(27%)]\t1.511611\n",
      "Train Epoch: 10 [18000/60000(30%)]\t1.516612\n",
      "Train Epoch: 10 [20000/60000(33%)]\t1.534580\n",
      "Train Epoch: 10 [22000/60000(37%)]\t1.544891\n",
      "Train Epoch: 10 [24000/60000(40%)]\t1.471111\n",
      "Train Epoch: 10 [26000/60000(43%)]\t1.520623\n",
      "Train Epoch: 10 [28000/60000(47%)]\t1.511076\n",
      "Train Epoch: 10 [30000/60000(50%)]\t1.541774\n",
      "Train Epoch: 10 [32000/60000(53%)]\t1.558078\n",
      "Train Epoch: 10 [34000/60000(57%)]\t1.493580\n",
      "Train Epoch: 10 [36000/60000(60%)]\t1.554795\n",
      "Train Epoch: 10 [38000/60000(63%)]\t1.511114\n",
      "Train Epoch: 10 [40000/60000(67%)]\t1.483188\n",
      "Train Epoch: 10 [42000/60000(70%)]\t1.517570\n",
      "Train Epoch: 10 [44000/60000(73%)]\t1.511310\n",
      "Train Epoch: 10 [46000/60000(77%)]\t1.579471\n",
      "Train Epoch: 10 [48000/60000(80%)]\t1.551477\n",
      "Train Epoch: 10 [50000/60000(83%)]\t1.496634\n",
      "Train Epoch: 10 [52000/60000(87%)]\t1.548491\n",
      "Train Epoch: 10 [54000/60000(90%)]\t1.524911\n",
      "Train Epoch: 10 [56000/60000(93%)]\t1.518591\n",
      "Train Epoch: 10 [58000/60000(97%)]\t1.519680\n",
      "\n",
      "Test set: Average loss: 0.0148, Accuracy 9776/10000 (98%\n",
      ")\n"
     ]
    }
   ],
   "source": [
    "for epoch in range(1,11):\n",
    "    train(epoch)\n",
    "    test()"
   ]
  },
  {
   "cell_type": "code",
   "execution_count": 24,
   "id": "a92969f1-76f4-40d3-a888-99eb053344a0",
   "metadata": {},
   "outputs": [
    {
     "data": {
      "text/plain": [
       "device(type='cpu')"
      ]
     },
     "execution_count": 24,
     "metadata": {},
     "output_type": "execute_result"
    }
   ],
   "source": [
    "device"
   ]
  },
  {
   "cell_type": "code",
   "execution_count": 26,
   "id": "60e3277e-4758-448e-b02e-8c6a193880b2",
   "metadata": {},
   "outputs": [
    {
     "name": "stderr",
     "output_type": "stream",
     "text": [
      "C:\\Users\\soura\\AppData\\Local\\Temp\\ipykernel_10328\\1471491164.py:21: UserWarning: Implicit dimension choice for softmax has been deprecated. Change the call to include dim=X as an argument.\n",
      "  return F.softmax(x)\n"
     ]
    },
    {
     "name": "stdout",
     "output_type": "stream",
     "text": [
      "Prediction: 2\n"
     ]
    },
    {
     "data": {
      "image/png": "[encoded data removed]",
      "text/plain": [
       "<Figure size 640x480 with 1 Axes>"
      ]
     },
     "metadata": {},
     "output_type": "display_data"
    }
   ],
   "source": [
    "import matplotlib.pyplot as plt\n",
    "model.eval()\n",
    "data,target=test_data[1]\n",
    "data=data.unsqueeze(0).to(device)\n",
    "output=model(data)\n",
    "prediction=output.argmax(dim=1,keepdim=True).item()\n",
    "print(f'Prediction: {prediction}')\n",
    "\n",
    "image=data.squeeze(0).squeeze(0).cpu().numpy()\n",
    "\n",
    "plt.imshow(image,cmap='gray')\n",
    "plt.show()"
   ]
  },
  {
   "cell_type": "code",
   "execution_count": null,
   "id": "2ce90b6e-c217-41f6-af57-fa7af8217f80",
   "metadata": {},
   "outputs": [],
   "source": []
  }
 ],
 "metadata": {
  "kernelspec": {
   "display_name": "Python 3 (ipykernel)",
   "language": "python",
   "name": "python3"
  },
  "language_info": {
   "codemirror_mode": {
    "name": "ipython",
    "version": 3
   },
   "file_extension": ".py",
   "mimetype": "text/x-python",
   "name": "python",
   "nbconvert_exporter": "python",
   "pygments_lexer": "ipython3",
   "version": "3.11.0"
  }
 },
 "nbformat": 4,
 "nbformat_minor": 5
}
